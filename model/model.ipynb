{
 "cells": [
  {
   "cell_type": "markdown",
   "id": "eb5fc30d-b7bb-4929-8f8b-99842d39cc1b",
   "metadata": {},
   "source": [
    "# Import Library"
   ]
  },
  {
   "cell_type": "code",
   "execution_count": 16,
   "id": "76a4d00f-eeed-4d81-bcbb-43f1a444eeff",
   "metadata": {},
   "outputs": [],
   "source": [
    "import pandas as pd\n",
    "from sklearn.model_selection import train_test_split\n",
    "from sklearn.linear_model import LogisticRegression\n",
    "from sklearn.preprocessing import StandardScaler\n",
    "from sklearn.metrics import accuracy_score, classification_report, confusion_matrix\n",
    "import joblib\n",
    "import numpy as np"
   ]
  },
  {
   "cell_type": "markdown",
   "id": "bcc40dbb-e220-41e7-b070-3b7f84645b33",
   "metadata": {},
   "source": [
    "# Import Dataset"
   ]
  },
  {
   "cell_type": "code",
   "execution_count": 2,
   "id": "8cc1998a-3efd-4179-a298-39c49238bb81",
   "metadata": {},
   "outputs": [],
   "source": [
    "data_from_csv = pd.read_csv(\"diabetes.csv\")"
   ]
  },
  {
   "cell_type": "code",
   "execution_count": 3,
   "id": "ab931850-6b35-4914-be8b-45b24585313d",
   "metadata": {},
   "outputs": [
    {
     "data": {
      "text/html": [
       "<div>\n",
       "<style scoped>\n",
       "    .dataframe tbody tr th:only-of-type {\n",
       "        vertical-align: middle;\n",
       "    }\n",
       "\n",
       "    .dataframe tbody tr th {\n",
       "        vertical-align: top;\n",
       "    }\n",
       "\n",
       "    .dataframe thead th {\n",
       "        text-align: right;\n",
       "    }\n",
       "</style>\n",
       "<table border=\"1\" class=\"dataframe\">\n",
       "  <thead>\n",
       "    <tr style=\"text-align: right;\">\n",
       "      <th></th>\n",
       "      <th>Pregnancies</th>\n",
       "      <th>Glucose</th>\n",
       "      <th>BloodPressure</th>\n",
       "      <th>SkinThickness</th>\n",
       "      <th>Insulin</th>\n",
       "      <th>BMI</th>\n",
       "      <th>DiabetesPedigreeFunction</th>\n",
       "      <th>Age</th>\n",
       "      <th>Outcome</th>\n",
       "    </tr>\n",
       "  </thead>\n",
       "  <tbody>\n",
       "    <tr>\n",
       "      <th>0</th>\n",
       "      <td>6</td>\n",
       "      <td>148</td>\n",
       "      <td>72</td>\n",
       "      <td>35</td>\n",
       "      <td>0</td>\n",
       "      <td>33.6</td>\n",
       "      <td>0.627</td>\n",
       "      <td>50</td>\n",
       "      <td>1</td>\n",
       "    </tr>\n",
       "    <tr>\n",
       "      <th>1</th>\n",
       "      <td>1</td>\n",
       "      <td>85</td>\n",
       "      <td>66</td>\n",
       "      <td>29</td>\n",
       "      <td>0</td>\n",
       "      <td>26.6</td>\n",
       "      <td>0.351</td>\n",
       "      <td>31</td>\n",
       "      <td>0</td>\n",
       "    </tr>\n",
       "    <tr>\n",
       "      <th>2</th>\n",
       "      <td>8</td>\n",
       "      <td>183</td>\n",
       "      <td>64</td>\n",
       "      <td>0</td>\n",
       "      <td>0</td>\n",
       "      <td>23.3</td>\n",
       "      <td>0.672</td>\n",
       "      <td>32</td>\n",
       "      <td>1</td>\n",
       "    </tr>\n",
       "    <tr>\n",
       "      <th>3</th>\n",
       "      <td>1</td>\n",
       "      <td>89</td>\n",
       "      <td>66</td>\n",
       "      <td>23</td>\n",
       "      <td>94</td>\n",
       "      <td>28.1</td>\n",
       "      <td>0.167</td>\n",
       "      <td>21</td>\n",
       "      <td>0</td>\n",
       "    </tr>\n",
       "    <tr>\n",
       "      <th>4</th>\n",
       "      <td>0</td>\n",
       "      <td>137</td>\n",
       "      <td>40</td>\n",
       "      <td>35</td>\n",
       "      <td>168</td>\n",
       "      <td>43.1</td>\n",
       "      <td>2.288</td>\n",
       "      <td>33</td>\n",
       "      <td>1</td>\n",
       "    </tr>\n",
       "  </tbody>\n",
       "</table>\n",
       "</div>"
      ],
      "text/plain": [
       "   Pregnancies  Glucose  BloodPressure  SkinThickness  Insulin   BMI  \\\n",
       "0            6      148             72             35        0  33.6   \n",
       "1            1       85             66             29        0  26.6   \n",
       "2            8      183             64              0        0  23.3   \n",
       "3            1       89             66             23       94  28.1   \n",
       "4            0      137             40             35      168  43.1   \n",
       "\n",
       "   DiabetesPedigreeFunction  Age  Outcome  \n",
       "0                     0.627   50        1  \n",
       "1                     0.351   31        0  \n",
       "2                     0.672   32        1  \n",
       "3                     0.167   21        0  \n",
       "4                     2.288   33        1  "
      ]
     },
     "execution_count": 3,
     "metadata": {},
     "output_type": "execute_result"
    }
   ],
   "source": [
    "data_from_csv.head()"
   ]
  },
  {
   "cell_type": "markdown",
   "id": "3352126c-368d-40ae-bb08-5d11cb1daccf",
   "metadata": {},
   "source": [
    "# Split fitur dan label"
   ]
  },
  {
   "cell_type": "code",
   "execution_count": 23,
   "id": "8a8245c3-9087-4b85-bab6-2d8bd5b5252e",
   "metadata": {},
   "outputs": [],
   "source": [
    "features = [\"Pregnancies\", \"Glucose\", \"BloodPressure\", \"SkinThickness\", \"Insulin\", \"BMI\", \"DiabetesPedigreeFunction\", \"Age\"]\n",
    "X = data_from_csv[features]\n",
    "y = data_from_csv[\"Outcome\"]\n",
    "X_train, X_test, y_train, y_test = train_test_split(X, y, test_size=0.25, random_state=16)"
   ]
  },
  {
   "cell_type": "markdown",
   "id": "4bdc6686-5ca4-4685-bef7-e6849beb5212",
   "metadata": {},
   "source": [
    "# Normalisasi Data"
   ]
  },
  {
   "cell_type": "code",
   "execution_count": 24,
   "id": "b001c7c7-f2d1-4bf6-89aa-b971cae8351a",
   "metadata": {},
   "outputs": [],
   "source": [
    "scaler = StandardScaler()\n",
    "X_train = scaler.fit_transform(X_train)\n",
    "X_test = scaler.transform(X_test)"
   ]
  },
  {
   "cell_type": "markdown",
   "id": "d130cd54-4205-4345-b0ee-048d4c996b4f",
   "metadata": {},
   "source": [
    "# Membuat Model Dengan Algoritma Logistik Regresi"
   ]
  },
  {
   "cell_type": "code",
   "execution_count": 25,
   "id": "ed24da6b-357a-4d53-ab40-2eeeb4a611cb",
   "metadata": {},
   "outputs": [],
   "source": [
    "model = LogisticRegression(random_state=16)"
   ]
  },
  {
   "cell_type": "markdown",
   "id": "d9ef18f0-b924-490a-895e-4b79e2f7dcda",
   "metadata": {},
   "source": [
    "# Melatih Model dengan Data"
   ]
  },
  {
   "cell_type": "code",
   "execution_count": 26,
   "id": "672d0e8a-2fa3-4e84-97e0-101022ea9da8",
   "metadata": {},
   "outputs": [],
   "source": [
    "model.fit(X_train, y_train)\n",
    "y_pred = model.predict(X_test)"
   ]
  },
  {
   "cell_type": "markdown",
   "id": "7e592d40-98a2-4a75-be6c-2d28bce9d183",
   "metadata": {},
   "source": [
    "# Melihat hasil akurasi"
   ]
  },
  {
   "cell_type": "code",
   "execution_count": 27,
   "id": "faa4b5a8-209a-4e5c-b8a7-bac123972039",
   "metadata": {},
   "outputs": [
    {
     "name": "stdout",
     "output_type": "stream",
     "text": [
      "Akurasi: 81.77%\n",
      "Confusion Matrix:\n",
      "[[116   9]\n",
      " [ 26  41]]\n",
      "Classification Report:\n",
      "              precision    recall  f1-score   support\n",
      "\n",
      "           0       0.82      0.93      0.87       125\n",
      "           1       0.82      0.61      0.70        67\n",
      "\n",
      "    accuracy                           0.82       192\n",
      "   macro avg       0.82      0.77      0.78       192\n",
      "weighted avg       0.82      0.82      0.81       192\n",
      "\n"
     ]
    }
   ],
   "source": [
    "accuracy = accuracy_score(y_test, y_pred)\n",
    "print(f'Akurasi: {accuracy * 100:.2f}%')\n",
    "\n",
    "print('Confusion Matrix:')\n",
    "print(confusion_matrix(y_test, y_pred))\n",
    "\n",
    "print('Classification Report:')\n",
    "print(classification_report(y_test, y_pred))"
   ]
  },
  {
   "cell_type": "markdown",
   "id": "213d3632-ab61-4a87-99ee-5aea7ba0b73d",
   "metadata": {},
   "source": [
    "# Tes Prediksi"
   ]
  },
  {
   "cell_type": "code",
   "execution_count": 28,
   "id": "92699e06-bf8e-48b5-bbc8-2336cbacaf01",
   "metadata": {},
   "outputs": [
    {
     "name": "stdout",
     "output_type": "stream",
     "text": [
      "Hasil data menunjukkan anda menderita diabetes\n"
     ]
    }
   ],
   "source": [
    "data_pasien = np.array([[2, 147, 83, 30, 0, 49.9, 0.547, 37]])\n",
    "result = model.predict(data_pasien)\n",
    "\n",
    "if result[0] == 0:\n",
    "    print(\"Hasil data menunjukkan anda tidak menderita diabetes\")\n",
    "elif result[0] == 1:\n",
    "    print(\"Hasil data menunjukkan anda menderita diabetes\")"
   ]
  },
  {
   "cell_type": "markdown",
   "id": "991f0c7a-ca99-40fa-84d9-b130222804f2",
   "metadata": {},
   "source": [
    "# Membuat Dump Model"
   ]
  },
  {
   "cell_type": "code",
   "execution_count": 29,
   "id": "72bf698f-ab4a-4671-904e-11212accc5b0",
   "metadata": {},
   "outputs": [
    {
     "data": {
      "text/plain": [
       "['logistic_regression_diabetes_model.pkl']"
      ]
     },
     "execution_count": 29,
     "metadata": {},
     "output_type": "execute_result"
    }
   ],
   "source": [
    "joblib.dump(model, 'logistic_regression_diabetes_model.pkl')"
   ]
  },
  {
   "cell_type": "code",
   "execution_count": 30,
   "id": "cd2b2cb6-88d1-40f0-9cc0-7adf63edf42f",
   "metadata": {},
   "outputs": [
    {
     "name": "stdout",
     "output_type": "stream",
     "text": [
      "Prediksi: Diabetes\n"
     ]
    },
    {
     "name": "stderr",
     "output_type": "stream",
     "text": [
      "C:\\Users\\myoga\\AppData\\Local\\Programs\\Python\\Python313\\Lib\\site-packages\\sklearn\\utils\\validation.py:2739: UserWarning: X does not have valid feature names, but StandardScaler was fitted with feature names\n",
      "  warnings.warn(\n"
     ]
    }
   ],
   "source": [
    "model = joblib.load('logistic_regression_diabetes_model.pkl')\n",
    "\n",
    "# Contoh data baru (pastikan formatnya sama dengan data training)\n",
    "new_data = np.array([[30, 25, 5, 0, 23, 85, 40, 0.5]])  # Sesuaikan dengan fitur dataset\n",
    "new_data_scaled = scaler.transform(new_data)  # Normalisasi data baru\n",
    "\n",
    "# Prediksi\n",
    "prediction = model.predict(new_data_scaled)\n",
    "print('Prediksi:', 'Diabetes' if prediction[0] == 1 else 'Tidak Diabetes')"
   ]
  }
 ],
 "metadata": {
  "kernelspec": {
   "display_name": "Python 3 (ipykernel)",
   "language": "python",
   "name": "python3"
  },
  "language_info": {
   "codemirror_mode": {
    "name": "ipython",
    "version": 3
   },
   "file_extension": ".py",
   "mimetype": "text/x-python",
   "name": "python",
   "nbconvert_exporter": "python",
   "pygments_lexer": "ipython3",
   "version": "3.13.2"
  }
 },
 "nbformat": 4,
 "nbformat_minor": 5
}
